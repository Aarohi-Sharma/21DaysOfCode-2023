{
  "nbformat": 4,
  "nbformat_minor": 0,
  "metadata": {
    "colab": {
      "provenance": [],
      "authorship_tag": "ABX9TyP9mvnVXwhaPSOxOSyk2iVx",
      "include_colab_link": true
    },
    "kernelspec": {
      "name": "python3",
      "display_name": "Python 3"
    },
    "language_info": {
      "name": "python"
    }
  },
  "cells": [
    {
      "cell_type": "markdown",
      "metadata": {
        "id": "view-in-github",
        "colab_type": "text"
      },
      "source": [
        "<a href=\"https://colab.research.google.com/github/Asti-exe/21DaysOfCode-2023/blob/main/Day_1_21.ipynb\" target=\"_parent\"><img src=\"https://colab.research.google.com/assets/colab-badge.svg\" alt=\"Open In Colab\"/></a>"
      ]
    },
    {
      "cell_type": "code",
      "execution_count": 1,
      "metadata": {
        "colab": {
          "base_uri": "https://localhost:8080/"
        },
        "id": "QfGOk0jgH63H",
        "outputId": "acf53ed9-9de1-40f4-a7aa-941ec9758018"
      },
      "outputs": [
        {
          "output_type": "stream",
          "name": "stdout",
          "text": [
            "Enter your name: Astitva Yadav\n",
            "Hello, Astitva Yadav!\n"
          ]
        }
      ],
      "source": [
        "# Prompt the user to enter their name\n",
        "name = input(\"Enter your name: \")\n",
        "\n",
        "# Print a greeting message in the format \"Hello, {Your Name}!\"\n",
        "print(f\"Hello, {name}!\")\n"
      ]
    }
  ]
}